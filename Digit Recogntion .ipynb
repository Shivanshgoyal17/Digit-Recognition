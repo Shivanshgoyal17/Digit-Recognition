{
 "cells": [
  {
   "cell_type": "code",
   "execution_count": 1,
   "metadata": {
    "colab": {},
    "colab_type": "code",
    "id": "YCD1C3g_ndJp"
   },
   "outputs": [],
   "source": [
    "import tensorflow as tf"
   ]
  },
  {
   "cell_type": "code",
   "execution_count": 2,
   "metadata": {
    "colab": {
     "base_uri": "https://localhost:8080/",
     "height": 696
    },
    "colab_type": "code",
    "id": "S5cErzDKnnwz",
    "outputId": "cef6cc48-fa53-4a12-cd60-3833fbc6104c"
   },
   "outputs": [
    {
     "name": "stdout",
     "output_type": "stream",
     "text": [
      "Requirement already satisfied: gradio in c:\\users\\siddharth dange\\anaconda3\\lib\\site-packages (1.0.0)\n",
      "Requirement already satisfied: requests in c:\\users\\siddharth dange\\anaconda3\\lib\\site-packages (from gradio) (2.22.0)\n",
      "Requirement already satisfied: scipy in c:\\users\\siddharth dange\\anaconda3\\lib\\site-packages (from gradio) (1.4.1)\n",
      "Requirement already satisfied: paramiko in c:\\users\\siddharth dange\\anaconda3\\lib\\site-packages (from gradio) (2.7.1)\n",
      "Requirement already satisfied: numpy in c:\\users\\siddharth dange\\anaconda3\\lib\\site-packages (from gradio) (1.18.1)\n",
      "Requirement already satisfied: scikit-image in c:\\users\\siddharth dange\\anaconda3\\lib\\site-packages (from gradio) (0.16.2)\n",
      "Requirement already satisfied: IPython in c:\\users\\siddharth dange\\anaconda3\\lib\\site-packages (from gradio) (7.12.0)\n",
      "Requirement already satisfied: analytics-python in c:\\users\\siddharth dange\\anaconda3\\lib\\site-packages (from gradio) (1.2.9)\n",
      "Requirement already satisfied: urllib3!=1.25.0,!=1.25.1,<1.26,>=1.21.1 in c:\\users\\siddharth dange\\anaconda3\\lib\\site-packages (from requests->gradio) (1.25.8)\n",
      "Requirement already satisfied: certifi>=2017.4.17 in c:\\users\\siddharth dange\\anaconda3\\lib\\site-packages (from requests->gradio) (2019.11.28)\n",
      "Requirement already satisfied: chardet<3.1.0,>=3.0.2 in c:\\users\\siddharth dange\\anaconda3\\lib\\site-packages (from requests->gradio) (3.0.4)\n",
      "Requirement already satisfied: idna<2.9,>=2.5 in c:\\users\\siddharth dange\\anaconda3\\lib\\site-packages (from requests->gradio) (2.8)\n",
      "Requirement already satisfied: cryptography>=2.5 in c:\\users\\siddharth dange\\anaconda3\\lib\\site-packages (from paramiko->gradio) (2.8)\n",
      "Requirement already satisfied: pynacl>=1.0.1 in c:\\users\\siddharth dange\\anaconda3\\lib\\site-packages (from paramiko->gradio) (1.3.0)\n",
      "Requirement already satisfied: bcrypt>=3.1.3 in c:\\users\\siddharth dange\\anaconda3\\lib\\site-packages (from paramiko->gradio) (3.1.7)\n",
      "Requirement already satisfied: networkx>=2.0 in c:\\users\\siddharth dange\\anaconda3\\lib\\site-packages (from scikit-image->gradio) (2.4)\n",
      "Requirement already satisfied: imageio>=2.3.0 in c:\\users\\siddharth dange\\anaconda3\\lib\\site-packages (from scikit-image->gradio) (2.6.1)\n",
      "Requirement already satisfied: matplotlib!=3.0.0,>=2.0.0 in c:\\users\\siddharth dange\\anaconda3\\lib\\site-packages (from scikit-image->gradio) (3.1.3)\n",
      "Requirement already satisfied: PyWavelets>=0.4.0 in c:\\users\\siddharth dange\\anaconda3\\lib\\site-packages (from scikit-image->gradio) (1.1.1)\n",
      "Requirement already satisfied: pillow>=4.3.0 in c:\\users\\siddharth dange\\anaconda3\\lib\\site-packages (from scikit-image->gradio) (7.0.0)\n",
      "Requirement already satisfied: decorator in c:\\users\\siddharth dange\\anaconda3\\lib\\site-packages (from IPython->gradio) (4.4.1)\n",
      "Requirement already satisfied: pickleshare in c:\\users\\siddharth dange\\anaconda3\\lib\\site-packages (from IPython->gradio) (0.7.5)\n",
      "Requirement already satisfied: jedi>=0.10 in c:\\users\\siddharth dange\\anaconda3\\lib\\site-packages (from IPython->gradio) (0.14.1)\n",
      "Requirement already satisfied: prompt-toolkit!=3.0.0,!=3.0.1,<3.1.0,>=2.0.0 in c:\\users\\siddharth dange\\anaconda3\\lib\\site-packages (from IPython->gradio) (3.0.3)\n",
      "Requirement already satisfied: backcall in c:\\users\\siddharth dange\\anaconda3\\lib\\site-packages (from IPython->gradio) (0.1.0)\n",
      "Requirement already satisfied: setuptools>=18.5 in c:\\users\\siddharth dange\\anaconda3\\lib\\site-packages (from IPython->gradio) (45.2.0.post20200210)\n",
      "Requirement already satisfied: pygments in c:\\users\\siddharth dange\\anaconda3\\lib\\site-packages (from IPython->gradio) (2.5.2)\n",
      "Requirement already satisfied: traitlets>=4.2 in c:\\users\\siddharth dange\\anaconda3\\lib\\site-packages (from IPython->gradio) (4.3.3)\n",
      "Requirement already satisfied: colorama; sys_platform == \"win32\" in c:\\users\\siddharth dange\\anaconda3\\lib\\site-packages (from IPython->gradio) (0.4.3)\n",
      "Requirement already satisfied: python-dateutil>2.1 in c:\\users\\siddharth dange\\anaconda3\\lib\\site-packages (from analytics-python->gradio) (2.8.1)\n",
      "Requirement already satisfied: six>=1.5 in c:\\users\\siddharth dange\\anaconda3\\lib\\site-packages (from analytics-python->gradio) (1.14.0)\n",
      "Requirement already satisfied: cffi!=1.11.3,>=1.8 in c:\\users\\siddharth dange\\anaconda3\\lib\\site-packages (from cryptography>=2.5->paramiko->gradio) (1.14.0)\n",
      "Requirement already satisfied: cycler>=0.10 in c:\\users\\siddharth dange\\anaconda3\\lib\\site-packages (from matplotlib!=3.0.0,>=2.0.0->scikit-image->gradio) (0.10.0)\n",
      "Requirement already satisfied: pyparsing!=2.0.4,!=2.1.2,!=2.1.6,>=2.0.1 in c:\\users\\siddharth dange\\anaconda3\\lib\\site-packages (from matplotlib!=3.0.0,>=2.0.0->scikit-image->gradio) (2.4.6)\n",
      "Requirement already satisfied: kiwisolver>=1.0.1 in c:\\users\\siddharth dange\\anaconda3\\lib\\site-packages (from matplotlib!=3.0.0,>=2.0.0->scikit-image->gradio) (1.1.0)\n",
      "Requirement already satisfied: parso>=0.5.0 in c:\\users\\siddharth dange\\anaconda3\\lib\\site-packages (from jedi>=0.10->IPython->gradio) (0.5.2)\n",
      "Requirement already satisfied: wcwidth in c:\\users\\siddharth dange\\anaconda3\\lib\\site-packages (from prompt-toolkit!=3.0.0,!=3.0.1,<3.1.0,>=2.0.0->IPython->gradio) (0.1.8)\n",
      "Requirement already satisfied: ipython-genutils in c:\\users\\siddharth dange\\anaconda3\\lib\\site-packages (from traitlets>=4.2->IPython->gradio) (0.2.0)\n",
      "Requirement already satisfied: pycparser in c:\\users\\siddharth dange\\anaconda3\\lib\\site-packages (from cffi!=1.11.3,>=1.8->cryptography>=2.5->paramiko->gradio) (2.19)\n"
     ]
    }
   ],
   "source": [
    "!pip install gradio\n"
   ]
  },
  {
   "cell_type": "code",
   "execution_count": 3,
   "metadata": {
    "colab": {},
    "colab_type": "code",
    "id": "1UQTPW6ungXp"
   },
   "outputs": [],
   "source": [
    "import gradio as gr"
   ]
  },
  {
   "cell_type": "code",
   "execution_count": 4,
   "metadata": {
    "colab": {},
    "colab_type": "code",
    "id": "Gx-lIIyznlDQ"
   },
   "outputs": [
    {
     "name": "stdout",
     "output_type": "stream",
     "text": [
      "Downloading data from https://storage.googleapis.com/tensorflow/tf-keras-datasets/mnist.npz\n",
      "11493376/11490434 [==============================] - 3s 0us/step\n"
     ]
    }
   ],
   "source": [
    "(x_train,y_train),(x_test,y_test) = tf.keras.datasets.mnist.load_data()\n",
    "x_train = x_train / 255.0,\n",
    "x_test = x_test / 255.0"
   ]
  },
  {
   "cell_type": "code",
   "execution_count": 5,
   "metadata": {
    "colab": {},
    "colab_type": "code",
    "id": "1GScSGG7qXaV"
   },
   "outputs": [],
   "source": [
    "import tensorflow.keras.models"
   ]
  },
  {
   "cell_type": "code",
   "execution_count": 6,
   "metadata": {
    "colab": {
     "base_uri": "https://localhost:8080/",
     "height": 381
    },
    "colab_type": "code",
    "id": "SXbdSfDInt8X",
    "outputId": "5a58f322-e2c7-4a06-d33e-265d814ec9b0"
   },
   "outputs": [
    {
     "name": "stdout",
     "output_type": "stream",
     "text": [
      "Epoch 1/10\n",
      "1875/1875 [==============================] - 7s 4ms/step - loss: 0.2515 - accuracy: 0.9283 - val_loss: 0.1252 - val_accuracy: 0.9627\n",
      "Epoch 2/10\n",
      "1875/1875 [==============================] - 7s 4ms/step - loss: 0.1105 - accuracy: 0.9679 - val_loss: 0.0984 - val_accuracy: 0.9699\n",
      "Epoch 3/10\n",
      "1875/1875 [==============================] - 7s 4ms/step - loss: 0.0755 - accuracy: 0.9772 - val_loss: 0.0855 - val_accuracy: 0.9738\n",
      "Epoch 4/10\n",
      "1875/1875 [==============================] - 7s 4ms/step - loss: 0.0561 - accuracy: 0.9825 - val_loss: 0.0730 - val_accuracy: 0.9772\n",
      "Epoch 5/10\n",
      "1875/1875 [==============================] - 7s 3ms/step - loss: 0.0432 - accuracy: 0.9867 - val_loss: 0.0703 - val_accuracy: 0.9779\n",
      "Epoch 6/10\n",
      "1875/1875 [==============================] - 7s 4ms/step - loss: 0.0336 - accuracy: 0.9890 - val_loss: 0.0805 - val_accuracy: 0.9772\n",
      "Epoch 7/10\n",
      "1875/1875 [==============================] - 7s 4ms/step - loss: 0.0273 - accuracy: 0.9912 - val_loss: 0.0732 - val_accuracy: 0.9798\n",
      "Epoch 8/10\n",
      "1875/1875 [==============================] - 7s 4ms/step - loss: 0.0224 - accuracy: 0.9930 - val_loss: 0.0744 - val_accuracy: 0.9784\n",
      "Epoch 9/10\n",
      "1875/1875 [==============================] - 7s 4ms/step - loss: 0.0175 - accuracy: 0.9948 - val_loss: 0.0744 - val_accuracy: 0.9787\n",
      "Epoch 10/10\n",
      "1875/1875 [==============================] - 7s 4ms/step - loss: 0.0151 - accuracy: 0.9955 - val_loss: 0.0804 - val_accuracy: 0.9790\n"
     ]
    },
    {
     "data": {
      "text/plain": [
       "<tensorflow.python.keras.callbacks.History at 0x1f217515388>"
      ]
     },
     "execution_count": 6,
     "metadata": {},
     "output_type": "execute_result"
    }
   ],
   "source": [
    "model = tf.keras.models.Sequential([\n",
    "  tf.keras.layers.Flatten(input_shape=(28,28)),\n",
    "  tf.keras.layers.Dense(128,activation='relu'),\n",
    "  tf.keras.layers.Dense(10,activation='softmax')])\n",
    "model.compile(optimizer='adam',loss='sparse_categorical_crossentropy',\n",
    "metrics=['accuracy'])\n",
    "model.fit(x_train,y_train,validation_data=(x_test,y_test), epochs=10)  "
   ]
  },
  {
   "cell_type": "code",
   "execution_count": 7,
   "metadata": {
    "colab": {},
    "colab_type": "code",
    "id": "xwJIryZ9pLxO"
   },
   "outputs": [],
   "source": [
    "def Classify(image):\n",
    "  prediction = model.predict(image).tolist()[0]\n",
    "  return {str(i): prediction[i] for i in range(10)}\n",
    "sketchpad = gr.inputs.Sketchpad()\n",
    "label = gr.outputs.Label(num_top_classes=3)\n",
    "interface = gr.Interface(Classify, sketchpad , label,live=True,capture_session=True)"
   ]
  },
  {
   "cell_type": "code",
   "execution_count": 8,
   "metadata": {
    "colab": {
     "base_uri": "https://localhost:8080/",
     "height": 625
    },
    "colab_type": "code",
    "id": "vyLrO6v2q_RN",
    "outputId": "00ee6699-8e39-44d3-8d3e-55e054a50781"
   },
   "outputs": [
    {
     "name": "stdout",
     "output_type": "stream",
     "text": [
      "Running locally at: http://127.0.0.1:7860/\n"
     ]
    },
    {
     "data": {
      "text/html": [
       "\n",
       "        <iframe\n",
       "            width=\"1000\"\n",
       "            height=\"500\"\n",
       "            src=\"http://127.0.0.1:7860/\"\n",
       "            frameborder=\"0\"\n",
       "            allowfullscreen\n",
       "        ></iframe>\n",
       "        "
      ],
      "text/plain": [
       "<IPython.lib.display.IFrame at 0x1f217570608>"
      ]
     },
     "metadata": {},
     "output_type": "display_data"
    },
    {
     "data": {
      "text/plain": [
       "(<gradio.networking.serve_files_in_background.<locals>.HTTPServer at 0x1f217243308>,\n",
       " 'http://127.0.0.1:7860/',\n",
       " None)"
      ]
     },
     "execution_count": 8,
     "metadata": {},
     "output_type": "execute_result"
    }
   ],
   "source": [
    "interface.launch()"
   ]
  },
  {
   "cell_type": "code",
   "execution_count": null,
   "metadata": {
    "colab": {},
    "colab_type": "code",
    "id": "Sn_JnV-zr4xu"
   },
   "outputs": [],
   "source": []
  }
 ],
 "metadata": {
  "colab": {
   "name": "Untitled5.ipynb",
   "provenance": []
  },
  "kernelspec": {
   "display_name": "Python 3",
   "language": "python",
   "name": "python3"
  },
  "language_info": {
   "codemirror_mode": {
    "name": "ipython",
    "version": 3
   },
   "file_extension": ".py",
   "mimetype": "text/x-python",
   "name": "python",
   "nbconvert_exporter": "python",
   "pygments_lexer": "ipython3",
   "version": "3.7.6"
  }
 },
 "nbformat": 4,
 "nbformat_minor": 1
}
